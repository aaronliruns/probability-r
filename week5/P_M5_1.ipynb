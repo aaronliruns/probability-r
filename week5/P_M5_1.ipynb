{
 "cells": [
  {
   "cell_type": "markdown",
   "metadata": {},
   "source": [
    "# Module 5 Peer Review Assignment"
   ]
  },
  {
   "cell_type": "markdown",
   "metadata": {},
   "source": [
    "# Problem 1\n",
    "\n",
    "Roll two six-sided fair dice. Let $X$ denote the larger of the two values. Let $Y$ denote the smaller of the two values."
   ]
  },
  {
   "cell_type": "markdown",
   "metadata": {},
   "source": [
    "**a)** Construct a table that gives the joint probability mass function for $X$ and $Y$."
   ]
  },
  {
   "cell_type": "markdown",
   "metadata": {},
   "source": [
    "Sample is \n",
    "S = {\\\n",
    "\t (1,1),(1,2),(1,3),(1,4),(1,5),(1,6), \\\n",
    "     (2,1),(2,2),(2,3),(2,4),(2,5),(2,6), \\\n",
    "     (3,1),(3,2),(3,3),(3,4),(3,5),(3,6), \\\n",
    "     (4,1),(4,2),(4,3),(4,4),(4,5),(4,6), \\\n",
    "     (5,1),(5,2),(5,3),(5,4),(5,5),(5,6), \\\n",
    "     (6,1),(6,2),(6,3),(6,4),(6,5),(6,6)  \\\n",
    "    }\n",
    "  \n",
    "and |S| = 36\n",
    "\n",
    "The joint probability mass function as below:\n",
    "\n",
    "|     | x=1 | x=2 | x=3 | x=4 | x=5 | x=6 |\n",
    "| --- | --- | --- | --- | --- | --- | --- |\n",
    "| y=1 | 1/36 | 2/36 | 2/36 | 2/36 | 2/36 | 2/36 |\n",
    "| y=2 | 0/36 | 1/36 | 2/36 | 2/36 | 2/36 | 2/36 |\n",
    "| y=3 | 0/36 | 0/36 | 1/36 | 2/36 | 2/36 | 2/36 |\n",
    "| y=4 | 0/36 | 0/36 | 0/36 | 1/36 | 2/26 | 2/36 |\n",
    "| y=5 | 0/36 | 0/36 | 0/36 | 0/36 | 1/36 | 2/36 |\n",
    "| y=6 | 0/36 | 0/36 | 0/36 | 0/36 | 0/36 | 1/36 |\n",
    "\n",
    "* Note: \n",
    "\n",
    "1. when x<y the probability is 0/36, as X must be greater or equal to the x \n",
    "2. when x=y the probability is 1/36\n",
    "3. when x>y the probability is 2/36. e.g., in (4,6) and (6,4), x will always represent 6 and y will represent 4. "
   ]
  },
  {
   "cell_type": "markdown",
   "metadata": {},
   "source": [
    "**b)** What is $P(X \\ge 3, Y = 1)$?"
   ]
  },
  {
   "cell_type": "markdown",
   "metadata": {},
   "source": [
    "Summing up all the probabilities where $x \\ge 3$ and $y=1$.\n",
    "\n",
    "$$ P(X \\ge 3, Y = 1) = \\frac{2}{36} + \\frac{2}{36} + \\frac{2}{36} + \\frac{2}{36} = \\frac{2}{9} $$"
   ]
  },
  {
   "cell_type": "markdown",
   "metadata": {},
   "source": [
    "**c)** What is $P(X \\ge Y + 2)$?"
   ]
  },
  {
   "cell_type": "markdown",
   "metadata": {},
   "source": [
    "\\begin{align*}\n",
    "    P(X \\ge Y+2) &= P(X \\ge 3, Y=1) + P(X \\ge 4, Y=2) + P(X \\ge 5, Y=3) + P(X=6, Y=4) \\\\\n",
    "    &= \\frac{8}{36} + \\frac{6}{36} + \\frac{4}{36} + \\frac{2}{36} \\\\\n",
    "    &= \\frac{20}{36} \\\\\n",
    "    &= \\frac{5}{9}\n",
    "\\end{align*}"
   ]
  },
  {
   "cell_type": "markdown",
   "metadata": {},
   "source": [
    "**d)** Are $X$ and $Y$ independent? Explain."
   ]
  },
  {
   "cell_type": "markdown",
   "metadata": {},
   "source": [
    "To prove X are are indepent, we must demonstrate all pairs \\\n",
    "P(X=x,Y=y) = P(X=x)P(Y=x) \\\n",
    "\\\n",
    "In case we can find any pair doesn't follow above, X and Y will be dependent. e.g., \\\n",
    "One pair looks like below \\\n",
    "$$ P(X=6, Y=6) = \\frac{1}{36} \\ne P(X=6)P(Y=6) = \\frac{11}{36}\\times\\frac{1}{36} $$\n",
    "Hence, X and Y are dependent."
   ]
  },
  {
   "cell_type": "markdown",
   "metadata": {},
   "source": [
    "# Problem 2\n",
    "\n",
    "Let $(X, Y)$ be continuous random variables with joint PDF:\n",
    "\n",
    "$$\n",
    "  f(x,y) =\n",
    "  \\begin{cases}\n",
    "                                   cxy^2 & \\text{if $0 \\le x \\le 1 \\text{ and } 0 \\le y \\le 1$} \\\\\n",
    "                                   0 & \\text{else}\n",
    "  \\end{cases}\n",
    "$$\n"
   ]
  },
  {
   "cell_type": "markdown",
   "metadata": {},
   "source": [
    "**Part a)**\n",
    "\n",
    "Solve for $c$. Show your work."
   ]
  },
  {
   "cell_type": "markdown",
   "metadata": {},
   "source": [
    "Since $\\int_0^1 \\int_0^1 f(x,y)dxdy = 1$, \\\n",
    "we have below : \n",
    "\n",
    "\\begin{align*}\n",
    "    \\int_0^1 \\int_0^1 f(x,y)dxdy &= 1 \\\\\n",
    "    \\int_0^1 \\int_0^1 cxy^2 dxdy &= 1 \\\\\n",
    "    c \\Big[(1/2)x^2 \\Big]_0^1 \\Big[ (1/3)y^3 \\Big]_0^1 &= 1 \\\\\n",
    "    c \\Big[ (1/2)(1^2-0^2) \\Big] \\Big[ (1/3) (1^3 - 0^3) \\Big] &= 1 \\\\\n",
    "    c (1/2) (1/3) &= 1 \\\\\n",
    "    c &= 6\n",
    "\\end{align*}"
   ]
  },
  {
   "cell_type": "markdown",
   "metadata": {},
   "source": [
    "**Part b)** \n",
    "\n",
    "Find the marginal distributions $f_X(x)$ and $f_Y(y)$. Show your work."
   ]
  },
  {
   "cell_type": "markdown",
   "metadata": {},
   "source": [
    "\\begin{align*}\n",
    "    f_X(x) &= \\int_0^1 f(x,y) dy \\\\\n",
    "    &= \\int_0^1 6xy^2 dy \\\\\n",
    "    &= 6x \\Big[ (1/3)y^3 \\Big]_0^1 \\\\\n",
    "    &= 2x \\Big[ 1^3 - 0^3 \\Big] \\\\\n",
    "    &= 2x, \\qquad 0 \\le x \\le 1\n",
    "\\end{align*}\n",
    "\n",
    "\\begin{align*}\n",
    "    f_Y(y) &= \\int_0^1 6xy^2 dx \\\\\n",
    "    &= 6y^2 \\Big[ (1/2) x^2 \\Big]_0^1 \\\\\n",
    "    &= 3y^2 \\Big[ 1^2 - 0^2 \\Big] \\\\\n",
    "    &= 3y^2, \\qquad 0 \\le y \\le 1\n",
    "\\end{align*}"
   ]
  },
  {
   "cell_type": "markdown",
   "metadata": {},
   "source": [
    "**Part c)**\n",
    "\n",
    "Solve for $E[X]$ and $E[Y]$. Show your work."
   ]
  },
  {
   "cell_type": "markdown",
   "metadata": {},
   "source": [
    "\\begin{align*}\n",
    "    E[X] &= \\int_0^1 xf_X(x) dx \\\\\n",
    "    &= \\int_0^1 x(2x)dx \\\\\n",
    "    &= 2 \\Big[ (1/3) x^3 \\Big]_0^1 \\\\\n",
    "    &= (2/3) \\Big[ 1^3 - 0^3 \\Big] \\\\\n",
    "    &= 2/3\n",
    "\\end{align*}\n",
    "\n",
    "\\begin{align*}\n",
    "    E[Y] &= \\int_0^1 yf_Y(y) dy \\\\\n",
    "    &= \\int_0^1 y(3y^2) dy \\\\\n",
    "    &= 3 \\Big[ (1/4)y^4 \\Big]_0^1 \\\\\n",
    "    &= (3/4) \\Big[ 1^4 - 0^4 \\Big] \\\\\n",
    "    &= 3/4\n",
    "\\end{align*}"
   ]
  },
  {
   "cell_type": "markdown",
   "metadata": {},
   "source": [
    "**Part d)** \n",
    "\n",
    "Using the joint PDF, solve for $E[XY]$. Show your work."
   ]
  },
  {
   "cell_type": "markdown",
   "metadata": {},
   "source": [
    "\\begin{align*}\n",
    "    E[XY] &= \\int_0^1 \\int_0^1 xy f(x,y) dxdy \\\\\n",
    "    &= \\int_0^1 \\int_0^1 xy(6xy^2) dxdy \\\\\n",
    "    &= 6 \\int_0^1 \\int_0^1 x^2y^3 dxdy \\\\\n",
    "    &= 6 \\Big[(1/3)x^3\\Big]_0^1 \\Big[(1/4)y^4\\Big]_0^1 \\\\\n",
    "    &= 6(1/3)(1/4) \\Big[1^3-0^3\\Big] \\Big[1^4-0^4\\Big] \\\\\n",
    "    &= 1/2\n",
    "\\end{align*}"
   ]
  },
  {
   "cell_type": "markdown",
   "metadata": {},
   "source": [
    "**Part e)**\n",
    "\n",
    "Are $X$ and $Y$ independent?"
   ]
  },
  {
   "cell_type": "markdown",
   "metadata": {},
   "source": [
    "$E[XY] = E[X]E[Y]$ = $1/2 = (2/3)(3/4)$.\n",
    "X and Y are independent"
   ]
  },
  {
   "cell_type": "code",
   "execution_count": null,
   "metadata": {},
   "outputs": [],
   "source": []
  }
 ],
 "metadata": {
  "kernelspec": {
   "display_name": "R",
   "language": "R",
   "name": "ir"
  },
  "language_info": {
   "codemirror_mode": "r",
   "file_extension": ".r",
   "mimetype": "text/x-r-source",
   "name": "R",
   "pygments_lexer": "r",
   "version": "3.6.1"
  }
 },
 "nbformat": 4,
 "nbformat_minor": 4
}
