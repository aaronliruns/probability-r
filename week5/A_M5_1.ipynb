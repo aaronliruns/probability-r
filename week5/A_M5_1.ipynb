{
 "cells": [
  {
   "cell_type": "markdown",
   "metadata": {
    "deletable": false,
    "editable": false,
    "nbgrader": {
     "cell_type": "markdown",
     "checksum": "3462dfcfe117194747781af3d1a6b97b",
     "grade": false,
     "grade_id": "cell-f0ab9cd622875579",
     "locked": true,
     "schema_version": 3,
     "solution": false,
     "task": false
    }
   },
   "source": [
    "## Module 5 Assessment"
   ]
  },
  {
   "cell_type": "code",
   "execution_count": 1,
   "metadata": {
    "deletable": false,
    "editable": false,
    "nbgrader": {
     "cell_type": "code",
     "checksum": "bc4ec69ebd2eb9a303ae4d1dc79c1608",
     "grade": false,
     "grade_id": "cell-eca9fa391ffa1807",
     "locked": true,
     "schema_version": 3,
     "solution": false,
     "task": false
    }
   },
   "outputs": [],
   "source": [
    "library(testthat)"
   ]
  },
  {
   "cell_type": "markdown",
   "metadata": {
    "deletable": false,
    "editable": false,
    "nbgrader": {
     "cell_type": "markdown",
     "checksum": "9873d16121ff53fe9b1baf6d0fb35afe",
     "grade": false,
     "grade_id": "cell-1d128a6d034a528e",
     "locked": true,
     "schema_version": 3,
     "solution": false,
     "task": false
    }
   },
   "source": [
    "### Problem 1\n",
    "Let $X$ be a random variable such that $E(X) = 3$, $sd(X) = 4$, and let $Y$ be a\n",
    "r.v. such that $E(Y ) = 1$, $sd(Y ) = 2$. $X$ and $Y$ are not linearly independent, and\n",
    "$corr(X, Y ) = 0.5$."
   ]
  },
  {
   "cell_type": "markdown",
   "metadata": {
    "deletable": false,
    "editable": false,
    "nbgrader": {
     "cell_type": "markdown",
     "checksum": "3a5c42f442b641225f16d4e3015e7539",
     "grade": false,
     "grade_id": "cell-417dbf7237ee4ea8",
     "locked": true,
     "schema_version": 3,
     "solution": false,
     "task": false
    }
   },
   "source": [
    "**a)** What is $E(X + 3Y + 1)$?"
   ]
  },
  {
   "cell_type": "code",
   "execution_count": 2,
   "metadata": {
    "deletable": false,
    "nbgrader": {
     "cell_type": "code",
     "checksum": "614f75464120de08da6c4edf6b19d88b",
     "grade": false,
     "grade_id": "cell-9fed1d17ff762b2a",
     "locked": false,
     "schema_version": 3,
     "solution": true,
     "task": false
    }
   },
   "outputs": [],
   "source": [
    "e1.1 = NA\n",
    "# your code here\n",
    "# E(X + 3Y + 1) = E(X) + 3E(Y) + 1\n",
    "e1.1 = 3 + 3*1 + 1"
   ]
  },
  {
   "cell_type": "code",
   "execution_count": 3,
   "metadata": {
    "deletable": false,
    "editable": false,
    "nbgrader": {
     "cell_type": "code",
     "checksum": "b51d05dd121d3dca0b031a73c9d26e3f",
     "grade": true,
     "grade_id": "cell-3b1500464f3ce901",
     "locked": true,
     "points": 1,
     "schema_version": 3,
     "solution": false,
     "task": false
    }
   },
   "outputs": [],
   "source": [
    "# Hidden test cell"
   ]
  },
  {
   "cell_type": "markdown",
   "metadata": {
    "deletable": false,
    "editable": false,
    "nbgrader": {
     "cell_type": "markdown",
     "checksum": "8ba70e5ba414a3a4b8caf70cadc455f4",
     "grade": false,
     "grade_id": "cell-7ae57d3e6199b834",
     "locked": true,
     "schema_version": 3,
     "solution": false,
     "task": false
    }
   },
   "source": [
    "**b)** What is $sd(4X + 2Y + 2)$? Round your answer to two decimal places."
   ]
  },
  {
   "cell_type": "markdown",
   "metadata": {},
   "source": [
    "$$sd1.2 = \\sqrt[]{4^2V(X)+2^2V(Y)+2\\times4\\times2Cov(X,Y)} \\\\\n",
    "= \\sqrt[]{4^2V(X)+2^2V(Y)+2\\times4\\times2corr(X,Y)sd(X)sd(Y)} \\\\\n",
    "= \\sqrt[]{4^2sd(X)^2+2^2sd(Y)^2+2\\times4\\times2corr(X,Y)sd(X)sd(Y)} \\\\\n",
    "= \\sqrt[]{4^2\\times4^2+2^2\\times2^2+2\\times4\\times2corr(X,Y)sd(X)sd(Y)} \\\\\n",
    "= \\sqrt[]{4^2\\times4^2+2^2\\times2^2+2\\times4\\times2\\times0.5\\times4\\times2} \\\\\n",
    "= \\sqrt[]{336}\n",
    "$$"
   ]
  },
  {
   "cell_type": "code",
   "execution_count": 4,
   "metadata": {
    "deletable": false,
    "nbgrader": {
     "cell_type": "code",
     "checksum": "b77c05d17f60ba39922b2a0826ff5184",
     "grade": false,
     "grade_id": "cell-c6da0d35d116dd9d",
     "locked": false,
     "schema_version": 3,
     "solution": true,
     "task": false
    }
   },
   "outputs": [],
   "source": [
    "sd1.2 = NA\n",
    "# your code here\n",
    "# =✓16*4^2+4*2^2+16*Corr(X,Y)*sd(X)*sd(Y)\n",
    "sd1.2 = 18.33\n"
   ]
  },
  {
   "cell_type": "code",
   "execution_count": 5,
   "metadata": {
    "deletable": false,
    "editable": false,
    "nbgrader": {
     "cell_type": "code",
     "checksum": "b2443b08ade91acf3dbf4993d1b138b7",
     "grade": true,
     "grade_id": "cell-d70fb029aacec3ea",
     "locked": true,
     "points": 1,
     "schema_version": 3,
     "solution": false,
     "task": false
    }
   },
   "outputs": [],
   "source": [
    "# Hidden test cell"
   ]
  },
  {
   "cell_type": "markdown",
   "metadata": {
    "deletable": false,
    "editable": false,
    "nbgrader": {
     "cell_type": "markdown",
     "checksum": "a1bd02d0838f0e05cdd16944828700ee",
     "grade": false,
     "grade_id": "cell-c2f86590e24db895",
     "locked": true,
     "schema_version": 3,
     "solution": false,
     "task": false
    }
   },
   "source": [
    "**c)** What is $E(3X - 2Y - 10)$?"
   ]
  },
  {
   "cell_type": "markdown",
   "metadata": {},
   "source": []
  },
  {
   "cell_type": "code",
   "execution_count": 6,
   "metadata": {
    "deletable": false,
    "nbgrader": {
     "cell_type": "code",
     "checksum": "d349774d4bea732848f040d37b671d6b",
     "grade": false,
     "grade_id": "cell-5bf7d109d3494bac",
     "locked": false,
     "schema_version": 3,
     "solution": true,
     "task": false
    }
   },
   "outputs": [],
   "source": [
    "e1.3 = NA\n",
    "# your code here\n",
    "e1.3 = 3*3 - 2*1 - 10"
   ]
  },
  {
   "cell_type": "code",
   "execution_count": 7,
   "metadata": {
    "deletable": false,
    "editable": false,
    "nbgrader": {
     "cell_type": "code",
     "checksum": "d4f1dbaf2c31bdfbd9010ce4bd9c0a84",
     "grade": true,
     "grade_id": "cell-927875b98043c91f",
     "locked": true,
     "points": 1,
     "schema_version": 3,
     "solution": false,
     "task": false
    }
   },
   "outputs": [],
   "source": [
    "# Hidden test cell"
   ]
  },
  {
   "cell_type": "markdown",
   "metadata": {
    "deletable": false,
    "editable": false,
    "nbgrader": {
     "cell_type": "markdown",
     "checksum": "99124461621c6de35ea87d6e9adbdc20",
     "grade": false,
     "grade_id": "cell-50889c1e3d32dbf7",
     "locked": true,
     "schema_version": 3,
     "solution": false,
     "task": false
    }
   },
   "source": [
    "**d)** What is $sd(3X - 3Y - 5)$? Round your answer to two decimal places."
   ]
  },
  {
   "cell_type": "markdown",
   "metadata": {},
   "source": [
    "$$\n",
    "e1.3 = \\sqrt{3^2V(X)+(-3)^2V(Y)+2\\times3\\times(-3)Cov(X,Y)} \\\\\n",
    "= \\sqrt{3^2sd(X)^2+(-3)^2sd(Y)^2+2\\times3\\times(-3)corr(X,Y)sd(X)sd(Y)} \\\\\n",
    "= \\sqrt{3^2\\times4^2+(-3)^2\\times2^2+2\\times3\\times(-3)\\times0.5\\times4\\times2} \\\\\n",
    "= \\sqrt{108}\n",
    "$$"
   ]
  },
  {
   "cell_type": "code",
   "execution_count": 1,
   "metadata": {
    "deletable": false,
    "nbgrader": {
     "cell_type": "code",
     "checksum": "0e5c481e495a06c32fb12fd9eeee474a",
     "grade": false,
     "grade_id": "cell-9d5aa30a9efbee2f",
     "locked": false,
     "schema_version": 3,
     "solution": true,
     "task": false
    }
   },
   "outputs": [],
   "source": [
    "sd1.4 = NA\n",
    "# your code here\n",
    "sd1.4 = round(sqrt(3^2*4^2 + (-3)^2*2^2 + 2*3*(-3)*0.5),2)\n",
    "sd1.4 = 10.39"
   ]
  },
  {
   "cell_type": "code",
   "execution_count": 9,
   "metadata": {
    "deletable": false,
    "editable": false,
    "nbgrader": {
     "cell_type": "code",
     "checksum": "dac21bce4ecf009b3ea472be5cc93e46",
     "grade": true,
     "grade_id": "cell-4aaa44f8d4ebf4a4",
     "locked": true,
     "points": 1,
     "schema_version": 3,
     "solution": false,
     "task": false
    }
   },
   "outputs": [],
   "source": [
    "# Hidden test cell"
   ]
  },
  {
   "cell_type": "markdown",
   "metadata": {
    "deletable": false,
    "editable": false,
    "nbgrader": {
     "cell_type": "markdown",
     "checksum": "c225da44e1a7ae313cfdce125a07886a",
     "grade": false,
     "grade_id": "cell-3a1f27cba739fb63",
     "locked": true,
     "schema_version": 3,
     "solution": false,
     "task": false
    }
   },
   "source": [
    "### Problem 2\n",
    "\n",
    "Two components needed in automotive manufacturing each can be represented in 1 of 3 grades. Let $X$ be the cost of the first component (in hundreds of dollars) and let $Y$ be the cost of the second component (also in hundreds of dollars). The following table represents the weekly fraction of cars that utilize each combination of these components.\n",
    "\n",
    "|      | y=7 | y=9 | y=10 |\n",
    "| ----- | ----- | ----- | ----- |\n",
    "| x=7 | 0.05 | 0.05 | 0.10 |\n",
    "| x=9 | 0.05 | 0.10 | 0.35 |\n",
    "| x=10 | 0 | 0.20 | 0.10 |"
   ]
  },
  {
   "cell_type": "markdown",
   "metadata": {},
   "source": [
    "Marginal PDF of x and y\n",
    "\n",
    "|      | y=7 | y=9 | y=10 | - |\n",
    "| ----- | ----- | ----- | ----- | ----- |\n",
    "| x=7 | 0.05 | 0.05 | 0.10 | 0.20 |\n",
    "| x=9 | 0.05 | 0.10 | 0.35 | 0.50 |\n",
    "| x=10 | 0 | 0.20 | 0.10 | 0.30 |\n",
    "| - | 0.10 | 0.35 | 0.55 | - |"
   ]
  },
  {
   "cell_type": "markdown",
   "metadata": {
    "deletable": false,
    "editable": false,
    "nbgrader": {
     "cell_type": "markdown",
     "checksum": "e4df4d411c1a9fb7e04dc3340ae40d7c",
     "grade": false,
     "grade_id": "cell-480390578aaafb46",
     "locked": true,
     "schema_version": 3,
     "solution": false,
     "task": false
    }
   },
   "source": [
    "**a)** What is $Cov(X, Y)$? Round your answer to three decimal places."
   ]
  },
  {
   "cell_type": "code",
   "execution_count": 6,
   "metadata": {
    "deletable": false,
    "nbgrader": {
     "cell_type": "code",
     "checksum": "7e653c0386136cf8317d3bdc595244bb",
     "grade": false,
     "grade_id": "cell-702af8af57ff974e",
     "locked": false,
     "schema_version": 3,
     "solution": true,
     "task": false
    }
   },
   "outputs": [
    {
     "data": {
      "text/html": [
       "0.135"
      ],
      "text/latex": [
       "0.135"
      ],
      "text/markdown": [
       "0.135"
      ],
      "text/plain": [
       "[1] 0.135"
      ]
     },
     "metadata": {},
     "output_type": "display_data"
    }
   ],
   "source": [
    "cov.xy = NA\n",
    "# your code here\n",
    "\n",
    "E_x     = 0.2*7 + 0.5*9 + 0.3*10 #8.9\n",
    "E_y     = 0.1*7 + 0.35*9 + 0.55*10 #9.35\n",
    "\n",
    "\n",
    "E_xy = 7*7*0.05 + 7*9*0.05 + 7*10*0.1  +\n",
    "       9*7*0.05 + 9*9*0.10 + 9*10*0.35 +\n",
    "       10*7*0   + 10*9*0.2 + 10*10*0.1\n",
    "\n",
    "cov.xy = round(E_xy - E_x*E_y,3)\n",
    "cov.xy\n",
    "##cov.xy = 0.135"
   ]
  },
  {
   "cell_type": "code",
   "execution_count": 11,
   "metadata": {
    "deletable": false,
    "editable": false,
    "nbgrader": {
     "cell_type": "code",
     "checksum": "ae6fc25db84e47dec4c601d0ef94fdf5",
     "grade": true,
     "grade_id": "cell-aab6384b34d387ea",
     "locked": true,
     "points": 1,
     "schema_version": 3,
     "solution": false,
     "task": false
    }
   },
   "outputs": [],
   "source": [
    "# Hidden Test Cell"
   ]
  },
  {
   "cell_type": "markdown",
   "metadata": {
    "deletable": false,
    "editable": false,
    "nbgrader": {
     "cell_type": "markdown",
     "checksum": "69b0be5be477d704b575a60fb98696bf",
     "grade": false,
     "grade_id": "cell-d35e5674a9720375",
     "locked": true,
     "schema_version": 3,
     "solution": false,
     "task": false
    }
   },
   "source": [
    "**b)** Suppose the random variables measure the cost of each part in dollars, rather than hundreds of dollars. In this case, the random variables would be $U = 100X$ and $V = 100Y$. What is $Cov(U, V)$? (This question shows us how changing the units of the random variable can change the value of the covariance) "
   ]
  },
  {
   "cell_type": "code",
   "execution_count": 12,
   "metadata": {
    "deletable": false,
    "nbgrader": {
     "cell_type": "code",
     "checksum": "0afe953968db046f6b37488323b84ce6",
     "grade": false,
     "grade_id": "cell-e0af6f546abea7ff",
     "locked": false,
     "schema_version": 3,
     "solution": true,
     "task": false
    }
   },
   "outputs": [],
   "source": [
    "cov.uv = NA\n",
    "# your code here\n",
    "E_u = 100*E_x\n",
    "E_v = 100*E_y\n",
    "#cov.uv = cov(100x,100y)\n",
    "# = 100*100*cov(x,y)\n",
    "cov.uv=100*100*cov.xy #1350"
   ]
  },
  {
   "cell_type": "code",
   "execution_count": 13,
   "metadata": {
    "deletable": false,
    "editable": false,
    "nbgrader": {
     "cell_type": "code",
     "checksum": "b2d86b969e93acfb67368c3138d66d59",
     "grade": true,
     "grade_id": "cell-ce2d5b2dd8d8ef25",
     "locked": true,
     "points": 1,
     "schema_version": 3,
     "solution": false,
     "task": false
    }
   },
   "outputs": [],
   "source": [
    "# Hidden Test Cell"
   ]
  },
  {
   "cell_type": "markdown",
   "metadata": {
    "deletable": false,
    "editable": false,
    "nbgrader": {
     "cell_type": "markdown",
     "checksum": "92f5b85deab2c86b8a4deb8f2eda06aa",
     "grade": false,
     "grade_id": "cell-101e78cfad1832ae",
     "locked": true,
     "schema_version": 3,
     "solution": false,
     "task": false
    }
   },
   "source": [
    "**c)** What is the correlation coefficient $\\rho_{X,Y}$? Save this value as `rho.xy`. What is the correlation coefficient $\\rho_{U,V}$? Save this value as `rho.uv`? Round your answers to three decimal places."
   ]
  },
  {
   "cell_type": "code",
   "execution_count": null,
   "metadata": {},
   "outputs": [],
   "source": []
  },
  {
   "cell_type": "code",
   "execution_count": 9,
   "metadata": {
    "deletable": false,
    "nbgrader": {
     "cell_type": "code",
     "checksum": "9b5ff66cb1e844e96c7e948efd74de2f",
     "grade": false,
     "grade_id": "cell-60e581d2fd5217fc",
     "locked": false,
     "schema_version": 3,
     "solution": true,
     "task": false
    }
   },
   "outputs": [
    {
     "data": {
      "text/html": [
       "0.142146613755309"
      ],
      "text/latex": [
       "0.142146613755309"
      ],
      "text/markdown": [
       "0.142146613755309"
      ],
      "text/plain": [
       "[1] 0.1421466"
      ]
     },
     "metadata": {},
     "output_type": "display_data"
    }
   ],
   "source": [
    "rho.xy = NA\n",
    "rho.uv = NA\n",
    "# your code here\n",
    "E_x     = 0.2*7 + 0.5*9 + 0.3*10 #8.9\n",
    "E_y     = 0.1*7 + 0.35*9 + 0.55*10 #9.35\n",
    "\n",
    "E_x_sqrd = 0.2*7^2 + 0.5*9^2 + 0.3*10^2 #80.3\n",
    "E_y_sqrd = 0.1*7^2 + 0.35*9^2 + 0.55*10^2 #88.25\n",
    "\n",
    "V_x = E_x_sqrd - E_x^2\n",
    "V_y = E_y_sqrd - E_y^2\n",
    "\n",
    "Sd_x = sqrt(V_x)\n",
    "Sd_y = sqrt(V_y)\n",
    "\n",
    "rho.xy = cov.xy /(Sd_x*Sd_y)\n",
    "print(rho.xy)\n",
    "##rho.xy = 0.142\n",
    "rho.uv = 0.142"
   ]
  },
  {
   "cell_type": "markdown",
   "metadata": {},
   "source": [
    "$$\\rho_{x,y} = \\frac{Cov(x,y)}{Sd(x)Sd(y)} \\\\\n",
    "\\\\\n",
    "\\rho_{u,v} = \\frac{Cov(100x,100y)}{Sd(100x)Sd(100y)} \\\\\n",
    "= \\frac{100\\times100Cov(x,y)}{100Sd(x)100Sd(y)} \\\\\n",
    "= \\frac{Cov(x,y)}{Sd(x)Sd(y)}\n",
    "$$"
   ]
  },
  {
   "cell_type": "code",
   "execution_count": 15,
   "metadata": {
    "deletable": false,
    "editable": false,
    "nbgrader": {
     "cell_type": "code",
     "checksum": "ce9db467e207ef8b5dfffe8300714924",
     "grade": true,
     "grade_id": "cell-34d3ce72b1670047",
     "locked": true,
     "points": 1,
     "schema_version": 3,
     "solution": false,
     "task": false
    }
   },
   "outputs": [],
   "source": [
    "# Hidden Test Cell"
   ]
  },
  {
   "cell_type": "markdown",
   "metadata": {},
   "source": [
    "![image](./p2.jpg)"
   ]
  },
  {
   "cell_type": "code",
   "execution_count": null,
   "metadata": {},
   "outputs": [],
   "source": []
  }
 ],
 "metadata": {
  "kernelspec": {
   "display_name": "R",
   "language": "R",
   "name": "ir"
  },
  "language_info": {
   "codemirror_mode": "r",
   "file_extension": ".r",
   "mimetype": "text/x-r-source",
   "name": "R",
   "pygments_lexer": "r",
   "version": "3.6.1"
  }
 },
 "nbformat": 4,
 "nbformat_minor": 4
}
