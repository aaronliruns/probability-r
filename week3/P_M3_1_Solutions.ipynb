{
 "cells": [
  {
   "cell_type": "markdown",
   "metadata": {},
   "source": [
    "# Module 3 Peer Review Assignment"
   ]
  },
  {
   "cell_type": "markdown",
   "metadata": {},
   "source": [
    "# Problem 1\n",
    "\n",
    "You work at a factory that manufactures light bulbs. You have determined that $5\\%$ of light bulbs that are produced are defective. For each of the scenarios below:\n",
    "\n",
    "1. Define an appropriate random variable and distribution.\n",
    "2. State the values that the random variable can take on.\n",
    "3. State any assumptions that you need to make.\n",
    "4. Find the probability that the random variable you defined takes on the value $X=4$."
   ]
  },
  {
   "cell_type": "markdown",
   "metadata": {},
   "source": [
    "**Part a)**\n",
    "\n",
    "Out of 30 lightbulbs, $k$ are defective."
   ]
  },
  {
   "cell_type": "markdown",
   "metadata": {},
   "source": [
    "1. If we define a \"success\" as finding a defective lightbulb, then we're looking for a random variable the describes the number of successes in 30 trials, with probability of success being $0.05$. This would be a binomial distribution with parameters $n=30$ and $p = 0.05$. Thus we have $X \\sim Bin(30, 0.05)$.\n",
    "\n",
    "2. The random variable $X$ can take on values of $k=0, 1, 2, \\dots, 30$. Any other value has probablity $= 0$.\n",
    "\n",
    "3. For the random variable to be Binomial we need to assume that the production of each light bulb is independent from the others and that the probability of a defective drive is constant at $p = 0.05$.\n",
    "\n",
    "4. If we let $p_X(k) = P(X = k)$ be the PMF of $Bin(30, 0.05)$ then we have\n",
    "\n",
    "$$ P_X(4) = {30 \\choose 4} (0.05)^4(1-0.05)^{30-4} \\approx 0.045 $$"
   ]
  },
  {
   "cell_type": "code",
   "execution_count": 4,
   "metadata": {},
   "outputs": [
    {
     "data": {
      "text/html": [
       "0.045"
      ],
      "text/latex": [
       "0.045"
      ],
      "text/markdown": [
       "0.045"
      ],
      "text/plain": [
       "[1] 0.045"
      ]
     },
     "metadata": {},
     "output_type": "display_data"
    }
   ],
   "source": [
    "round(dbinom(4, size=30,prob=0.05),3)"
   ]
  },
  {
   "cell_type": "markdown",
   "metadata": {},
   "source": [
    "**Part b)**\n",
    "\n",
    "You test each lightbulb as it comes of the line. The $k^{th}$ light bulb is defective."
   ]
  },
  {
   "cell_type": "markdown",
   "metadata": {},
   "source": [
    "1. We want a random variable that describes how many light bulbs we've inspected when we find our first defective bulb. (*counting the defective one, 1st cat of geometric*). This would be a Geometric distribution with the probability of success being $p = 0.05$. We get $X \\sim Geo(0.05)$.\n",
    "\n",
    "2. The random variable $X$ can take on values of $k=1, 2, 3, \\dots$.\n",
    "\n",
    "3. For the random variable to be Geometric, we need to assume that the production of each light bulb is independent from the others and that the probability of finding a defective bulb is constant at $p = 0.05$\n",
    "\n",
    "4. If we let $p_X(k) = P(X = k) \\sim Geo(0.05)$ then we have\n",
    "\n",
    "\\begin{align*}\n",
    "P_x(4) = (0.05)(1-0.05)^{4-1} \\approx 0.043\n",
    "\\end{align*}"
   ]
  },
  {
   "cell_type": "markdown",
   "metadata": {},
   "source": [
    "**Part c)**\n",
    "\n",
    "You find your second defective drive after observing $k$ drives in all."
   ]
  },
  {
   "cell_type": "markdown",
   "metadata": {},
   "source": [
    "1. We want to know how many light bulbs we've inspected when we find our second defective bulb. This is a Negative Binomial distribution with the probability of success being $p = 0.05$. Thus, $X \\sim NB(2, 0.05)$.\n",
    "\n",
    "2. The random variable $X$ can take on values of $k=2, 3, 4, \\dots$. (minimum 2 - 2nd as the 2nd defective)\n",
    "\n",
    "3. For $X$ to be Negative Binomial, we need to assume that the production of each light bulb is independent and the probability of a defective light bulb is constant.\n",
    "\n",
    "4. If we let $p_X(k) = P(X = k) \\sim NB(2,0.05)$ then we have\n",
    "\n",
    "$$ P_x(2) = {2+2-1 \\choose 2-1}(0.05)^2(1-0.05)^{2} \\approx 0.0068 $$"
   ]
  },
  {
   "cell_type": "code",
   "execution_count": 7,
   "metadata": {},
   "outputs": [
    {
     "data": {
      "text/html": [
       "0.0068"
      ],
      "text/latex": [
       "0.0068"
      ],
      "text/markdown": [
       "0.0068"
      ],
      "text/plain": [
       "[1] 0.0068"
      ]
     },
     "metadata": {},
     "output_type": "display_data"
    }
   ],
   "source": [
    "round(dnbinom(2, size=2, prob=0.05),4)"
   ]
  },
  {
   "cell_type": "markdown",
   "metadata": {},
   "source": [
    "# Problem 2\n",
    "\n",
    "Consider a loaded six-sided die that is twice as likely to roll an even number as an odd number. Let $X$ be random variable for value that is rolled from the die."
   ]
  },
  {
   "cell_type": "markdown",
   "metadata": {},
   "source": [
    "**Part a)**\n",
    "\n",
    "What is the Probability Mass Function for $X$. Write this out as a table."
   ]
  },
  {
   "cell_type": "markdown",
   "metadata": {},
   "source": [
    "We know that there are six sides to the die. Because of the rules of probability, we get the following:\n",
    "\n",
    "\\begin{align*}\n",
    "    P(X=1) + P(X=2) + P(X=3) + P(X=4) + P(X=5) + P(X=6) = 1\n",
    "\\end{align*}\n",
    "\n",
    "We know that rolling any odd number (i.e. $1, 3, 5$) have the same probability, and that rolling any even number (i.e. $2,4,6$) has the same probability. This allows us to simplify our probability equation.\n",
    "\n",
    "\\begin{align*}\n",
    "    P(X=1) + P(X=2) + P(X=1) + P(X=2) + P(X=1) + P(X=2) = 1\n",
    "\\end{align*}\n",
    "\n",
    "Lastly, we know that rolling an even number is twice as likely as rolling an odd number. This allows us to substitute $2P(X=1) = P(X=2)$ and solve.\n",
    "\n",
    "\\begin{align*}\n",
    "    P(X=1) + 2P(X=1) + P(X=1) + 2P(X=1) + P(X=1) + 2P(X=1) &= 1 \\\\\n",
    "    9P(X=1) &= 1 \\\\\n",
    "    P(X=1) &= 1/9\n",
    "\\end{align*}\n",
    "\n",
    "From here, we can solve for the rest of our probabilities to get our final Probability Mass Function.\n",
    "\n",
    "| x | P(X=x) |\n",
    "| --- | ---- |\n",
    "| 1 | 1/9 |\n",
    "| 2 | 2/9 |\n",
    "| 3 | 1/9 |\n",
    "| 4 | 2/9 |\n",
    "| 5 | 1/9 |\n",
    "| 6 | 2/9 |"
   ]
  },
  {
   "cell_type": "markdown",
   "metadata": {},
   "source": [
    "**Part b)**\n",
    "\n",
    "What is the Cumulative Distribution Function for $X$?"
   ]
  },
  {
   "cell_type": "markdown",
   "metadata": {},
   "source": [
    "The CDF is calculated by solving $F_X(x) = P(X \\le x)$. We can look at our PMF to solve for each value in our CDF.\n",
    "\n",
    "| x | P(X<=x) |\n",
    "| --- | --- |\n",
    "| 1 | 1/9 |\n",
    "| 2 | 3/9 |\n",
    "| 3 | 4/9 |\n",
    "| 4 | 6/9 |\n",
    "| 5 | 7/9 |\n",
    "| 6 | 9/9 |"
   ]
  },
  {
   "cell_type": "markdown",
   "metadata": {},
   "source": [
    "**Part c)** \n",
    "\n",
    "What is $E[X]$?"
   ]
  },
  {
   "cell_type": "markdown",
   "metadata": {},
   "source": [
    "\\begin{align*}\n",
    "    E[X] &= \\sum_{x=1}^6 xf_X(x) \\\\\n",
    "    &= (1)(1/9) + (2)(2/9) + (3)(1/9) + (4)(2/9) + (5)(1/9) + (6)(2/9) \\\\\n",
    "    &= 33/9\n",
    "\\end{align*}"
   ]
  },
  {
   "cell_type": "markdown",
   "metadata": {},
   "source": [
    "# Problem 3\n",
    "\n",
    "How would we simulate variables from these distributions in R? It'll turn out that the method is fairly similar across all these distributions so, for simplicity, let's just say we want to simulate $X \\sim Bin(n,p)$. Take a look at the official documentation for this function [here](https://www.rdocumentation.org/packages/stats/versions/3.3/topics/Binomial). Not extremely clear, is it? Let's go through it one step at a time."
   ]
  },
  {
   "cell_type": "markdown",
   "metadata": {},
   "source": [
    "**Part a)** \n",
    "\n",
    "What if we want a random variable from this distribution? That is, we know some underlying distribution and we want to simulate many results from that distribution. Then we would use the \"random generation\" function `rbinom()`.\n",
    "\n",
    "Play around with this function, with different `size` and `prob` parameters to get a feel for how it works. Finally, generate $30$ results from a $Bin(10, 0.3)$ distribution and plot a histogram of the results."
   ]
  },
  {
   "cell_type": "code",
   "execution_count": 12,
   "metadata": {},
   "outputs": [
    {
     "data": {
      "image/png": "[encoded data removed]",
      "text/plain": [
       "Plot with title “Histogram of samples”"
      ]
     },
     "metadata": {
      "image/png": {
       "height": 420,
       "width": 420
      },
      "text/plain": {
       "height": 420,
       "width": 420
      }
     },
     "output_type": "display_data"
    }
   ],
   "source": [
    "samples = rbinom(30, size=10, prob=0.3)\n",
    "hist(samples)"
   ]
  },
  {
   "cell_type": "markdown",
   "metadata": {},
   "source": [
    "**Part b)**\n",
    "\n",
    "What if we have some value $k$ and we want to know what's probability of generating $k$? That is, we're solving the Probability Mass Function $P(X=k)$. Then we would use the \"density\" function `dbinom()`.\n",
    "\n",
    "Let $X \\sim Bin(15, 0.4)$. By hand, solve $P(X=4)$. Then use the `dbinom()` function to confirm your result."
   ]
  },
  {
   "cell_type": "markdown",
   "metadata": {},
   "source": [
    "\\begin{align*}\n",
    "    P(X=4) &= {15 \\choose 4}(0.4)^4(1-0.4)^{15-4} \\\\\n",
    "    &\\approx 0.127\n",
    "\\end{align*}"
   ]
  },
  {
   "cell_type": "code",
   "execution_count": 14,
   "metadata": {},
   "outputs": [
    {
     "data": {
      "text/html": [
       "0.12677580324864"
      ],
      "text/latex": [
       "0.12677580324864"
      ],
      "text/markdown": [
       "0.12677580324864"
      ],
      "text/plain": [
       "[1] 0.1267758"
      ]
     },
     "metadata": {},
     "output_type": "display_data"
    }
   ],
   "source": [
    "dbinom(4, size=15, prob=0.4) # n=size=15 and k=4"
   ]
  },
  {
   "cell_type": "markdown",
   "metadata": {},
   "source": [
    "**Part c)**\n",
    "\n",
    "What if we wanted to solve for some value of the Cumulative Density Function? That is, we know $k$ and want to find $P(X \\le k) = p$. Then we would use the \"distribution function\" `pbinom()`.\n",
    "\n",
    "Let $X \\sim Bin(15, 0.4)$. By hand, solve $P(X \\le 4)$. Then use the `qbinom()` function to confirm your result."
   ]
  },
  {
   "cell_type": "markdown",
   "metadata": {},
   "source": [
    "\\begin{align*}\n",
    "    P(X=4) &= {15 \\choose 4}(0.4)^4(1-0.4)^{15-4} + {15 \\choose 3}(0.4)^3(1-0.4)^{15-3} + {15 \\choose 2}(0.4)^2(1-0.4)^{15-2} + \\\\\n",
    "    & \\qquad {15 \\choose 1}(0.4)^1(1-0.4)^{15-1} + {15 \\choose 0}(0.4)^0(1-0.4)^{15-0} \\\\\n",
    "    &\\approx 0.2172\n",
    "\\end{align*}"
   ]
  },
  {
   "cell_type": "code",
   "execution_count": 15,
   "metadata": {},
   "outputs": [
    {
     "data": {
      "text/html": [
       "0.217277705650176"
      ],
      "text/latex": [
       "0.217277705650176"
      ],
      "text/markdown": [
       "0.217277705650176"
      ],
      "text/plain": [
       "[1] 0.2172777"
      ]
     },
     "metadata": {},
     "output_type": "display_data"
    }
   ],
   "source": [
    "pbinom(4, size=15, prob=0.4)"
   ]
  },
  {
   "cell_type": "markdown",
   "metadata": {},
   "source": [
    "**Part d)**\n",
    "\n",
    "Finally, we have the \"quantile\" function `qbinom()`. This function is the reverse of the `pbinom()` function, in that it takes a probability $p$ as an argument and returns the value $k$ of the CDF that results in that much probability.\n",
    "\n",
    "Use the `qbinom()` function to confirm your results from **Part c**. That is, plug in the probablity you got from **Part c** and see if you get the same $k$."
   ]
  },
  {
   "cell_type": "code",
   "execution_count": 18,
   "metadata": {},
   "outputs": [
    {
     "data": {
      "text/html": [
       "4"
      ],
      "text/latex": [
       "4"
      ],
      "text/markdown": [
       "4"
      ],
      "text/plain": [
       "[1] 4"
      ]
     },
     "metadata": {},
     "output_type": "display_data"
    }
   ],
   "source": [
    "qbinom(0.2172, size=15, prob=0.4) # P(X <= 4)"
   ]
  },
  {
   "cell_type": "markdown",
   "metadata": {},
   "source": [
    "Nearly every distribution has these four functions, and they will be very useful for our future calculations and simulations."
   ]
  }
 ],
 "metadata": {
  "kernelspec": {
   "display_name": "R",
   "language": "R",
   "name": "ir"
  },
  "language_info": {
   "codemirror_mode": "r",
   "file_extension": ".r",
   "mimetype": "text/x-r-source",
   "name": "R",
   "pygments_lexer": "r",
   "version": "3.6.1"
  }
 },
 "nbformat": 4,
 "nbformat_minor": 4
}
