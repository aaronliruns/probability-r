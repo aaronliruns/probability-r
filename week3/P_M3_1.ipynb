{
 "cells": [
  {
   "cell_type": "markdown",
   "metadata": {},
   "source": [
    "# Module 3 Peer Review Assignment"
   ]
  },
  {
   "cell_type": "code",
   "execution_count": null,
   "metadata": {},
   "outputs": [],
   "source": []
  },
  {
   "cell_type": "markdown",
   "metadata": {},
   "source": [
    "# Problem 1\n",
    "\n",
    "You work at a factory that manufactures light bulbs. You have determined that $5\\%$ of light bulbs that are produced are defective. For each of the scenarios below:\n",
    "\n",
    "1. Define an appropriate random variable and distribution.\n",
    "2. State the values that the random variable can take on.\n",
    "3. State any assumptions that you need to make.\n",
    "4. Find the probability that the random variable you defined takes on the value $X=4$."
   ]
  },
  {
   "cell_type": "markdown",
   "metadata": {},
   "source": [
    "**Part a)**\n",
    "\n",
    "Out of 30 lightbulbs, $k$ are defective."
   ]
  },
  {
   "cell_type": "markdown",
   "metadata": {},
   "source": [
    "1. Considering defective as success, the problem is interpreted as how many successes we will get in a fixed number 30 of trails with the success probabilily of 0.05. This is a binomial distribution with n = 30, p = 0.05 : X ~ Bin(30, 0.05)\n",
    "2. Random varialbe X can take on values of 0,1,2,3 ... 30\n",
    "3. Quality of each bulb is independent to others and is constantly at 5%\n",
    "4. PMF of X ~ Bin(30,0.05) as below\n",
    "$$ P(X=4) = {30 \\choose 4}\\times(0.05)^4\\times(1-0.05)^{30-4} \\approx 0.045 $$"
   ]
  },
  {
   "cell_type": "markdown",
   "metadata": {},
   "source": [
    "**Part b)**\n",
    "\n",
    "You test each lightbulb as it comes of the line. The $k^{th}$ light bulb is the first defective light bulb you find."
   ]
  },
  {
   "cell_type": "markdown",
   "metadata": {},
   "source": [
    "1. Taking defective as success, this problem is translated to number of trails of failures until getting 1st success with the success probabilily of 0.05. This is a geometric distribution with p = 0.05 : X ~ Geom(0.05)\n",
    "2. Random varialbe X can take on values of 1,2,3,4 ...\n",
    "3. Quality of each bulb is independent to others and is constantly at 5%\n",
    "4. PMF of X ~ Geom(0.05) as below\n",
    "$$ P(X=4) = (1 - 0.05)^{k-1} \\times 0.05 \\approx 0.043 $$"
   ]
  },
  {
   "cell_type": "markdown",
   "metadata": {},
   "source": [
    "**Part c)**\n",
    "\n",
    "You find your second defective light bulb after observing $k$ light bulbs in all."
   ]
  },
  {
   "cell_type": "markdown",
   "metadata": {},
   "source": [
    "1. Taking defective as success, this problem is translated to number of trails of failures until getting k successes with the success probabilily of 0.05. This is a negative binomial distribution with p = 0.05, r = 2 : X ~ NB(2, 0.05)\n",
    "2. Random varialbe X can take on values of 2,3,4 ... (k represents number of failure before getting 2 successes)\n",
    "3. Quality of each bulb is independent to others and is constantly at 5%\n",
    "4. PMF of X ~ NB(2,0.05) as below\n",
    "$$ P(X=2) = {2+1-2 \\choose 2-1}\\times(0.05)^2\\times(1-0.05)^{4-2} \\approx 0.0068 $$"
   ]
  },
  {
   "cell_type": "markdown",
   "metadata": {},
   "source": [
    "# Problem 2\n",
    "\n",
    "Consider a loaded six-sided die that is twice as likely to roll an even number as an odd number. Let $X$ be random variable for value that is rolled from the die."
   ]
  },
  {
   "cell_type": "markdown",
   "metadata": {},
   "source": [
    "**Part a)**\n",
    "\n",
    "What is the Probability Mass Function for $X$. Write this out as a table."
   ]
  },
  {
   "cell_type": "markdown",
   "metadata": {},
   "source": [
    "YOUR ANSWER HERE"
   ]
  },
  {
   "cell_type": "markdown",
   "metadata": {},
   "source": [
    "**Part b)**\n",
    "\n",
    "What is the Cumulative Distribution Function for $X$?"
   ]
  },
  {
   "cell_type": "markdown",
   "metadata": {},
   "source": [
    "YOUR ANSWER HERE"
   ]
  },
  {
   "cell_type": "markdown",
   "metadata": {},
   "source": [
    "**Part c)** \n",
    "\n",
    "What is $E[X]$?"
   ]
  },
  {
   "cell_type": "markdown",
   "metadata": {},
   "source": [
    "YOUR ANSWER HERE"
   ]
  },
  {
   "cell_type": "markdown",
   "metadata": {},
   "source": [
    "# Problem 3\n",
    "\n",
    "How would we simulate variables from these distributions in R? It'll turn out that the method is fairly similar across all these distributions so, for simplicity, let's just say we want to simulate $X \\sim Bin(n,p)$. Take a look at the official documentation for this function [here](https://www.rdocumentation.org/packages/stats/versions/3.3/topics/Binomial). Not extremely clear, is it? Let's go through it one step at a time."
   ]
  },
  {
   "cell_type": "markdown",
   "metadata": {},
   "source": [
    "**Part a)** \n",
    "\n",
    "What if we want a random variable from this distribution? That is, we know some underlying distribution and we want to simulate many results from that distribution. Then we would use the \"random generation\" function `rbinom()`.\n",
    "\n",
    "Play around with this function, with different `size` and `prob` parameters to get a feel for how it works. Finally, generate $30$ results from a $Bin(10, 0.3)$ distribution and plot a histogram of the results."
   ]
  },
  {
   "cell_type": "code",
   "execution_count": 1,
   "metadata": {},
   "outputs": [],
   "source": [
    "# YOUR CODE HERE"
   ]
  },
  {
   "cell_type": "markdown",
   "metadata": {},
   "source": [
    "**Part b)**\n",
    "\n",
    "What if we have some value $k$ and we want to know what's probability of generating $k$? That is, we're solving the Probability Mass Function $P(X=k)$. Then we would use the \"density\" function `dbinom()`.\n",
    "\n",
    "Let $X \\sim Bin(15, 0.4)$. By hand, solve $P(X=4)$. Then use the `dbinom()` function to confirm your result."
   ]
  },
  {
   "cell_type": "markdown",
   "metadata": {},
   "source": [
    "YOUR ANSWER HERE"
   ]
  },
  {
   "cell_type": "code",
   "execution_count": 2,
   "metadata": {},
   "outputs": [],
   "source": [
    "# YOUR CODE HERE"
   ]
  },
  {
   "cell_type": "markdown",
   "metadata": {},
   "source": [
    "**Part c)**\n",
    "\n",
    "What if we wanted to solve for some value of the Cumulative Density Function? That is, we know $k$ and want to find $P(X \\le k) = p$. Then we would use the \"distribution function\" `pbinom()`.\n",
    "\n",
    "Let $X \\sim Bin(15, 0.4)$. By hand, solve $P(X \\le 4)$. Then use the `pbinom()` function to confirm your result."
   ]
  },
  {
   "cell_type": "markdown",
   "metadata": {},
   "source": [
    "YOUR ANSWER HERE"
   ]
  },
  {
   "cell_type": "code",
   "execution_count": 3,
   "metadata": {},
   "outputs": [],
   "source": [
    "# YOUR CODE HERE"
   ]
  },
  {
   "cell_type": "markdown",
   "metadata": {},
   "source": [
    "**Part d)**\n",
    "\n",
    "Finally, we have the \"quantile\" function `qbinom()`. This function is the reverse of the `pbinom()` function, in that it takes a probability $p$ as an argument and returns the value $k$ of the CDF that results in that much probability.\n",
    "\n",
    "Use the `qbinom()` function to confirm your results from **Part c**. That is, plug in the probablity you got from **Part c** and see if you get the same $k$."
   ]
  },
  {
   "cell_type": "code",
   "execution_count": 4,
   "metadata": {},
   "outputs": [],
   "source": [
    "# YOUR CODE HERE"
   ]
  },
  {
   "cell_type": "markdown",
   "metadata": {},
   "source": [
    "Nearly every distribution has these four functions, and they will be very useful for our future calculations and simulations."
   ]
  }
 ],
 "metadata": {
  "kernelspec": {
   "display_name": "R",
   "language": "R",
   "name": "ir"
  },
  "language_info": {
   "codemirror_mode": "r",
   "file_extension": ".r",
   "mimetype": "text/x-r-source",
   "name": "R",
   "pygments_lexer": "r",
   "version": "3.6.1"
  }
 },
 "nbformat": 4,
 "nbformat_minor": 4
}
