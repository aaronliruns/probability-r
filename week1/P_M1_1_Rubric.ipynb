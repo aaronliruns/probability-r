{
 "cells": [
  {
   "cell_type": "markdown",
   "metadata": {},
   "source": [
    "# Module 1 Peer Review Assignment Rubric"
   ]
  },
  {
   "cell_type": "code",
   "execution_count": 11,
   "metadata": {},
   "outputs": [
    {
     "data": {
      "text/html": [
       "<ol class=list-inline>\n",
       "\t<li>0.47569530766255</li>\n",
       "\t<li>0.507297234323985</li>\n",
       "</ol>\n"
      ],
      "text/latex": [
       "\\begin{enumerate*}\n",
       "\\item 0.47569530766255\n",
       "\\item 0.507297234323985\n",
       "\\end{enumerate*}\n"
      ],
      "text/markdown": [
       "1. 0.47569530766255\n",
       "2. 0.507297234323985\n",
       "\n",
       "\n"
      ],
      "text/plain": [
       "[1] 0.4756953 0.5072972"
      ]
     },
     "metadata": {},
     "output_type": "display_data"
    }
   ],
   "source": [
    "calc_PA_c = function(N) {\n",
    "    m = 1\n",
    "    for (i in 365:(365-N+1)) {\n",
    "        m = m * i\n",
    "    }\n",
    "    return (1-m/365^N)\n",
    "}\n",
    "\n",
    "c(calc_PA_c(22),calc_PA_c(23))"
   ]
  },
  {
   "cell_type": "markdown",
   "metadata": {},
   "source": [
    "This is the rubric for the module 2 peer review assessment. Do your best to interpret what has been written by fellow students and give them the benefit of the doubt when it comes to understanding with an eye towards improvement. You can give partial credit if you feel the mistakes were minor and/or partial comprehension attained. Be kind to your fellow students, if for no other reason than it will engender kindness in return. Grade each part out of 5 points.\n",
    "\n",
    "# Problem 1\n",
    "\n",
    "The Birthday Problem: This is a classic problem that has a nonintuitive answer.  Suppose there are $N$ students in a room. \n",
    "\n",
    "### 1(a)\n",
    "\n",
    "What is the probability that at least two of them have the same birthday (month and day)?  (Assume that each day is equally likely\n",
    "to be a student's birthday and that there are no sets of twins.)\n",
    "\n",
    "#### Solution:\n",
    "\n",
    "The sample space $S = \\{x_1, x_2, \\ldots, x_N \\, | \\, x_i \\mbox{is the birthday of the $i^{th}$ student} \\}$.  $S$ has $365^N$ elements. Let $A$ be the event that two or more students have the same birthday.  $A^c$, the complement of $A$, is the event\n",
    "that no two students have the same birthday.  \n",
    "\\begin{eqnarray*}\n",
    "P(A^c) = \\frac{365 \\cdot 364 \\cdot 363 \\cdots (365 - N + 1)}{365^N}\n",
    "\\end{eqnarray*}\n",
    "Then, \n",
    "\\begin{eqnarray*}\n",
    "P(A) = 1- P(A^c) = 1  - \\frac{365 \\cdot 364 \\cdot 363 \\cdots (365 - N + 1)}{365^N}\n",
    "\\end{eqnarray*}\n",
    "\n",
    "### 1(b)\n",
    "\n",
    "How large must $N$ be so that the probability that at least two of them have the same birthday is at least 1/2?\n",
    "\n",
    "#### Solution:\n",
    "\n",
    "A bit of trial and error yields $P(A) \\geq 1/2$ when $N\\geq 23$.  (Or, this can be determined from the solution to part (c).)\n",
    "\n",
    "### 1(c)\n",
    "\n",
    "Plot the number of students on the $x$-axis versus the probability that at least two of them have the same birthday\n",
    "on the $y$-axis.\n",
    "\n",
    "#### Solution:\n",
    "\n",
    "`\n",
    "N = seq(1,100)\n",
    "P_A = rep(0,100)\n",
    "for (i in N){\n",
    "    factor = 1\n",
    "    for (j in seq(365,365-i+1)){\n",
    "        factor = factor*j\n",
    "    }\n",
    "    P_A[i] = 1 - factor/(365^i)\n",
    "}\n",
    "plot(N,P_A, type = \"l\")\n",
    "`"
   ]
  },
  {
   "cell_type": "code",
   "execution_count": 22,
   "metadata": {
    "scrolled": false
   },
   "outputs": [
    {
     "data": {
      "image/png": "[encoded data removed]",
      "text/plain": [
       "plot without title"
      ]
     },
     "metadata": {},
     "output_type": "display_data"
    }
   ],
   "source": [
    "N = seq(1,100)\n",
    "P_A = rep(0,100)\n",
    "for (i in N){\n",
    "    factor = 1\n",
    "    for (j in seq(365,365-i+1)){\n",
    "        factor = factor*j\n",
    "    }\n",
    "    P_A[i] = 1 - factor/(365^i)\n",
    "}\n",
    "plot(N,P_A, type = \"l\")\n",
    "abline(v=22, lty = \"dashed\",col=\"red\")\n",
    "abline(h=0.5,lty = \"dashed\",col=\"red\")"
   ]
  },
  {
   "cell_type": "markdown",
   "metadata": {},
   "source": [
    "### 1(Thought Question)\n",
    "\n",
    "Thought question: Would you be surprised if there were 100 students in the room and no two of them had the same birthday?  What\n",
    "would that tell you about that set of students?\n",
    "\n",
    "#### Solution:"
   ]
  },
  {
   "cell_type": "markdown",
   "metadata": {},
   "source": [
    "After looking at the above plot one can see this would be quite surprising! At 100 students there is essentially a probability of 1 of finding a match. Having this result could indicate that this group of students is quite the outlier, or perhaps these students were quite so randomly chosen as assumed."
   ]
  },
  {
   "cell_type": "markdown",
   "metadata": {},
   "source": [
    "# Problem 2 \n",
    "\n",
    "One of the most beneficial aspects of R, when it comes to probability, is that it allows us to simulate data and random events. In the following problem, you are going to become familiar with these simulation functions and techniques."
   ]
  },
  {
   "cell_type": "markdown",
   "metadata": {},
   "source": [
    "**Part a)** \n",
    "\n",
    "Let $X$ be a random variable for the number rolled on a fair, six-sided die. How would we go about simulating $X$?\n",
    "\n",
    "Start by creating a list of numbers [1, 6]. Then use the `sample()` function with our list of numbers to simulate **a single** roll of the die, as in simulate $X$. We would recommend looking at the documentation for `sample()`, found [here](https://www.rdocumentation.org/packages/base/versions/3.6.2/topics/sample), or by executing `?sample` in a Jupyter cell."
   ]
  },
  {
   "cell_type": "code",
   "execution_count": 4,
   "metadata": {},
   "outputs": [
    {
     "data": {
      "text/html": [
       "6"
      ],
      "text/latex": [
       "6"
      ],
      "text/markdown": [
       "6"
      ],
      "text/plain": [
       "[1] 6"
      ]
     },
     "metadata": {},
     "output_type": "display_data"
    }
   ],
   "source": [
    "rolls = 1:6\n",
    "sample(rolls, 1)"
   ]
  },
  {
   "cell_type": "markdown",
   "metadata": {},
   "source": [
    "**Part b)** \n",
    "\n",
    "In our initial problem, we said that $X$ comes from a fair die, meaning each value is equally likely to be rolled. Because our die has $6$ sides, each side should appear about $1/6^{th}$ of the time. How would we confirm that our simulation is fair?\n",
    "\n",
    "What if we generate multiple instances of $X$? That way, we could compare if the simulated probabilities match the theoretical probabilities (i.e. are all $1/6$).\n",
    "\n",
    "Generate $12$ instances of $X$ and calculate the proportion that each face occurs. Do your simulated results appear to come from a fair die? Now generate $120$ instances of $X$ and look at the proportion of each face. What do you notice?\n",
    "\n",
    "Note: Each time you run your simulations, you will get different values. If you want to guarantee that your simulation will result in the same values each time, use the `set.seed()` function. This function will allow your simulations to be reproducable."
   ]
  },
  {
   "cell_type": "code",
   "execution_count": 11,
   "metadata": {},
   "outputs": [
    {
     "data": {
      "text/plain": [
       "sample.12\n",
       "         1          2          3          4          5          6 \n",
       "0.08333333 0.25000000 0.25000000 0.16666667 0.08333333 0.16666667 "
      ]
     },
     "metadata": {},
     "output_type": "display_data"
    }
   ],
   "source": [
    "set.seed(112358)\n",
    "# Generate 12 samples\n",
    "n = 12\n",
    "sample.12 = sample(rolls, n, replace=TRUE)\n",
    "# Calculate the proportion of occurances for each face\n",
    "table(sample.12) / n"
   ]
  },
  {
   "cell_type": "markdown",
   "metadata": {},
   "source": [
    "We can see that there is a lot of variation in the values. Only $4$ and $6$ occur $1/6$ of the time, all the other values occur more or less often than their theoretical amount. Let's see what happens when $n=120$."
   ]
  },
  {
   "cell_type": "code",
   "execution_count": 12,
   "metadata": {},
   "outputs": [
    {
     "data": {
      "text/plain": [
       "sample.120\n",
       "        1         2         3         4         5         6 \n",
       "0.1416667 0.2000000 0.1500000 0.1500000 0.1750000 0.1833333 "
      ]
     },
     "metadata": {},
     "output_type": "display_data"
    }
   ],
   "source": [
    "set.seed(404)\n",
    "# Generate 120 samples\n",
    "n = 120\n",
    "sample.120 = sample(rolls, n, replace=TRUE)\n",
    "# Calculate the proportion of occurnaces for each face\n",
    "table(sample.120) / n"
   ]
  },
  {
   "cell_type": "markdown",
   "metadata": {},
   "source": [
    "We can see that with a higher sample size, the proprotions of each face are closer to their theoretical value. We can conclude that the larger the sample size, the more accurate our simulation is going to be. "
   ]
  },
  {
   "cell_type": "markdown",
   "metadata": {},
   "source": [
    "**Part c)** \n",
    "\n",
    "What if our die is not fair? How would we simulate that?\n",
    "\n",
    "Let's assume that $Y$ comes from an unfair six-sided die, where $P(Y=3)=1/2$ and all other face values have an equal probability of occuring. Use the `sample()` function to simulate this situation. Then display the proportion of each face value, to confirm that the faces occur with the desired probabilities. Make sure that $n$ is large enough to be confident in your answer."
   ]
  },
  {
   "cell_type": "code",
   "execution_count": 13,
   "metadata": {},
   "outputs": [
    {
     "data": {
      "text/plain": [
       "sample.y\n",
       "    1     2     3     4     5     6 \n",
       "0.098 0.114 0.504 0.082 0.112 0.090 "
      ]
     },
     "metadata": {},
     "output_type": "display_data"
    }
   ],
   "source": [
    "set.seed(8675309)\n",
    "# sample Y from unfair die.\n",
    "sample.y = sample(rolls, 500, prob=c(1/10, 1/10, 1/2, 1/10, 1/10, 1/10), replace=TRUE)\n",
    "# Calculate the proportion of each face value\n",
    "table(sample.y) / 500"
   ]
  }
 ],
 "metadata": {
  "kernelspec": {
   "display_name": "R",
   "language": "R",
   "name": "ir"
  },
  "language_info": {
   "codemirror_mode": "r",
   "file_extension": ".r",
   "mimetype": "text/x-r-source",
   "name": "R",
   "pygments_lexer": "r",
   "version": "3.6.1"
  }
 },
 "nbformat": 4,
 "nbformat_minor": 4
}
