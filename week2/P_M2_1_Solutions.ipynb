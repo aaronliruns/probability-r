{
 "cells": [
  {
   "cell_type": "markdown",
   "metadata": {},
   "source": [
    "This assignment will be reviewed by peers based upon a given rubric. Make sure to keep your answers clear and concise while demonstrating an understanding of the material. Be sure to give all requested information in markdown cells. It is recommended to utilize Latex."
   ]
  },
  {
   "cell_type": "markdown",
   "metadata": {},
   "source": [
    "### Problem 1"
   ]
  },
  {
   "cell_type": "markdown",
   "metadata": {},
   "source": [
    "What does it mean for one event $C$ to cause another event $E$ — for example, smoking ($C$) to cause cancer ($E$)? There is a long history in philosophy, statistics, and the sciences of trying to clearly analyze the concept of a cause. One tradition says that causes raise the probability of their effects; we may write this symbolically is \n",
    "$$\n",
    "\\begin{equation} \n",
    "P(E | C)>P(E). \n",
    "\\end{equation} \\qquad \\qquad (1)\n",
    "$$ "
   ]
  },
  {
   "cell_type": "markdown",
   "metadata": {},
   "source": [
    "#### Part a)\n",
    "\n",
    "Does equation (1) imply that $P(C | E) > P(C)$? If so, prove it. If not, give a counter example."
   ]
  },
  {
   "cell_type": "markdown",
   "metadata": {},
   "source": [
    "Here we apply Bayes' Rule:\n",
    "\n",
    "\n",
    "\\begin{align*}\n",
    "P(C\\vert E) & =\\frac{P(E\\vert C)P(C)}{P(E)}\\\\\n",
    " & >\\frac{P(E)P(C)}{P(E)}\\\\\n",
    " & =P(C)\n",
    "\\end{align*}\n",
    "\n",
    "Thus, if we subscribe to the above definition of causality, cancer causes smoking!"
   ]
  },
  {
   "cell_type": "markdown",
   "metadata": {},
   "source": [
    "#### Part b)\n",
    "\n",
    "Another way to formulate a probabilistic theory of causation is to say that\n",
    "$$P (E | C) > P(E | C^C). \\qquad \\qquad (2)$$ Show that equation (1) implies equation (2)."
   ]
  },
  {
   "cell_type": "markdown",
   "metadata": {},
   "source": [
    "\\begin{align*}\n",
    "P(E\\vert C) & >P(E)\\\\\n",
    " & =P(E|C)P(C)+P(E|C^{C})P(C^{C})\\\\\n",
    "\\implies P(E\\vert C)\\left(1-P(C)\\right) & >P(E|C^{C})P(C^{C})\\\\\n",
    "\\implies P(E\\vert C)P(C^{C}) & >P(E|C^{C})P(C^{C})\\\\\n",
    "\\implies P(E\\vert C) & >P(E|C^{C})\n",
    "\\end{align*}"
   ]
  },
  {
   "cell_type": "markdown",
   "metadata": {},
   "source": [
    "#### Part c)\n",
    "\n",
    "Let $C$ be the drop in the level of mercury in a barometer and let $E$ be a storm. Briefly describe why this leads to a problem with using equation (1) (or equation (2)) as a theory of causation."
   ]
  },
  {
   "cell_type": "markdown",
   "metadata": {},
   "source": [
    "The probabilty of a storm conditioned a drop in the barometer reading is likely greater than the unconditional probability of a storm occuring. But does this mean that the barometer drop caused the storm?"
   ]
  },
  {
   "cell_type": "markdown",
   "metadata": {},
   "source": [
    "#### Part d)\n",
    "\n",
    "Let $A$, $C$, and $E$ be events. If $P(E | A \\cap C) = P(E |C )$, then $C$ is said to screen $A$ off from $E$. Suppose that $P (E \\cap C) > 0.$ Show that screening off is equivalent to saying that $P(A \\cap E | C)=P(A|C)P(E | C).$ What does this latter equation say in terms of independence?"
   ]
  },
  {
   "cell_type": "markdown",
   "metadata": {},
   "source": [
    "This one seems complicated, but all it requires is using the definition of conditional probability:\n",
    "\n",
    "\\begin{align*}\n",
    "P(E\\vert A\\cap C) & =P(E\\vert C)\\\\\n",
    "\\implies\\frac{P\\left(E\\cap A\\cap C\\right)}{P(A\\cap C)} & =P(E\\vert C)\\\\\n",
    "\\implies\\frac{P\\left(E\\cap A\\cap C\\right)}{P(A\\cap C)P(C)} & =\\frac{P(E\\vert C)}{P(C)}\\\\\n",
    "\\implies\\frac{P\\left(E\\cap A\\cap C\\right)}{P(C)} & =P(E\\vert C)\\frac{P(A\\cap C)}{P(C)}\\\\\n",
    "\\implies P\\left(E\\cap A|C\\right) & =P(E\\vert C)P(A|C)\\\\\n",
    "\\end{align*}\n"
   ]
  },
  {
   "cell_type": "markdown",
   "metadata": {},
   "source": [
    "#### Part e)\n",
    "\n",
    "Now let $A$ be a the drop in the level of mercury in a barometer, $E$ be a storm, and $C$ be a drop in atmospheric pressure. Does the result from part (d) help fix the problem suggested in part (c)?"
   ]
  },
  {
   "cell_type": "markdown",
   "metadata": {},
   "source": [
    "The take-away here is that E and A are conditionally independent given C. That is, once we know there's been a drop in the pressure, the barometer can't tell us anything new about the storm and vice-versa. Perhaps the existence of an event C that makes E and A conditionally independent precludes a directly causal relationship between them."
   ]
  },
  {
   "cell_type": "markdown",
   "metadata": {},
   "source": [
    "# Problem 2\n",
    "\n",
    "Suppose you have two bags of marbles that are in a box. Bag 1 contains 7 white marbles, 6 black marbles, and 3 gold marbles. Bag 2 contains 4 white marbles, 5 black marbles, and 15 gold marbles. The probability of grabbing the Bag 1 from the box is twice the probability of grabbing the Bag 2.\n",
    "\n",
    "If you close your eyes, grab a bag from the box, and then grab a marble from that bag, what is the probability that it is gold?"
   ]
  },
  {
   "cell_type": "markdown",
   "metadata": {},
   "source": [
    "**Part a)** \n",
    "\n",
    "Solve this problem by hand. This should give us a theoretical value for pulling a gold marble."
   ]
  },
  {
   "cell_type": "markdown",
   "metadata": {},
   "source": [
    "Let $G$ be the event that we pull a gold marble, $B_1$ be the event that we select Bag 1, and $B_2$ be the event that we select Bag 2. We can use the Law of Total Probability to solve for the total probability:\n",
    "\n",
    "\\begin{align*}\n",
    "    P(G) &= P(G|B_1)P(B_1) + P(G|B_2)P(B_2) \\\\\n",
    "    &= (3/16)(2/3) + (15/24)(1/3) \\\\\n",
    "    &= 1/3\n",
    "\\end{align*}"
   ]
  },
  {
   "cell_type": "markdown",
   "metadata": {},
   "source": [
    "**Part b)**\n",
    "\n",
    "Create a simulation to estimate the probability of pulling a gold marble. Assume you put the marble back in the bag each time you pull one out. Make sure to run the simulation enough times to be confident in your final result.\n",
    "\n",
    "Note: To generate $n$ random values between [0,1], use the `runif(n)` function. This function generates $n$ random variables from the Uniform(0,1) distribution, which we will learn more about later in this course!"
   ]
  },
  {
   "cell_type": "code",
   "execution_count": 30,
   "metadata": {},
   "outputs": [
    {
     "data": {
      "text/html": [
       "0.335"
      ],
      "text/latex": [
       "0.335"
      ],
      "text/markdown": [
       "0.335"
      ],
      "text/plain": [
       "[1] 0.335"
      ]
     },
     "metadata": {},
     "output_type": "display_data"
    }
   ],
   "source": [
    "prob.gold.marbles = function(n){\n",
    "    # Initialize a list to store whether the nth marble is gold\n",
    "    marbles = numeric(n)\n",
    "    # These for loops represent the simulation.\n",
    "    # Each loop results in 1 marble pulled\n",
    "    # Repeat the simulation n times\n",
    "    for(sim in 1:n){\n",
    "        # Generate a random variable on [0,1].\n",
    "        x = runif(1)\n",
    "        # If x is less than 2/3, pick bag 1, else pick bag 2.\n",
    "        if(x < 2/3){\n",
    "            # This is bag 1\n",
    "            # Bag 1 has a 3/16 chance to be a gold marble\n",
    "            # Generate another value on [0,1]\n",
    "            # if less than 3/16, then the marble is gold\n",
    "            y = runif(1)\n",
    "            if(y < 3/16){\n",
    "                # Picked a gold marble\n",
    "                marbles[sim] = 1\n",
    "            }\n",
    "            else{\n",
    "                # Picked a non-gold marble\n",
    "                marbles[sim] = 0\n",
    "            }\n",
    "        }\n",
    "        else{\n",
    "            # This is Bag 2\n",
    "            # Bag 2 has a 15/24 chance of being a gold marble\n",
    "            # Repeat the process of Bag 1\n",
    "            y = runif(1)\n",
    "            if(y < 15/24){\n",
    "                # Picked a gold marble\n",
    "                marbles[sim] = 1\n",
    "            }\n",
    "            else{\n",
    "                # Picked a non-gold marble\n",
    "                marbles[sim] = 0\n",
    "            }\n",
    "        }\n",
    "    }\n",
    "    # When we exit the loop, we've finished the simulation\n",
    "    # Have a list of n values, where each 1 is a gold marble being pulled.\n",
    "    # To get the probability, divide the number of golds by the total number of simulations\n",
    "    gold.prob = sum(marbles) / n\n",
    "    return(gold.prob)\n",
    "}\n",
    "\n",
    "prob.gold.marbles(10000)"
   ]
  },
  {
   "cell_type": "markdown",
   "metadata": {},
   "source": [
    "# Problem 3\n",
    "\n",
    "Suppose you roll a fair die two times. Let $A$ be the event \"the sum of the throws equals 5\" and $B$ be the event \"at least one of the throws is a $4$\"."
   ]
  },
  {
   "cell_type": "markdown",
   "metadata": {},
   "source": [
    "**Part a)** \n",
    "\n",
    "By hand, solve for the probability that the sum of the throws equals 5, given that at least one of the throws is a 4. That is, solve $P(A|B)$."
   ]
  },
  {
   "cell_type": "markdown",
   "metadata": {},
   "source": [
    "We want to compute \n",
    "\n",
    "\\begin{align*}\n",
    "P(A|B) = \\dfrac{P(A \\cap B)}{P(B)}\n",
    "\\end{align*}\n",
    "\n",
    "So we need to solve for $P(A \\cap B)$ and $P(B)$.\n",
    "\n",
    "$P(A \\cap B)$ is the event \"at least one of the throws is a 4 and the sum of the throws equals 5.\" The combination of these events occurs only if one roll is a 4, and the other is a 1. This leaves us with two events out of the sample space: $\\{4,1\\}$ and $\\{1,4\\}$. There is a total of $6 \\times 6 = 36$ possible combinations of rolls. Therefor, $P(A \\cap B) = 2/36$.\n",
    "\n",
    "$P(B)$ can also be solved by looking at the total number of events that occur with a 4. In total, there are 11 rolls where at least one of the rolls is a 4: $\\{4,1\\}, \\{4,2\\}, \\{4,3\\}, \\{4,4\\}, \\{4,5\\}, \\{4,6\\}, \\{1,4\\}, \\{2,4\\}, \\{3,4\\}, \\{5,4\\}, \\{6,4\\}$. That means $P(B) = 11/36$.\n",
    "\n",
    "Plugging these values into our origional equation, we get:\n",
    "\n",
    "\\begin{align*}\n",
    "P(A|B) = \\dfrac{2/36}{11/36} \\\\\n",
    "= \\dfrac{2}{11} \\\\\n",
    "\\approx 0.1818\n",
    "\\end{align*}"
   ]
  },
  {
   "cell_type": "markdown",
   "metadata": {},
   "source": [
    "**Part b)**\n",
    "\n",
    "Write a simple simulation to confirm our result. Make sure you run your simulation enough times to be confident in your result.\n",
    "\n",
    "Hint: Think about the definition of conditional probability."
   ]
  },
  {
   "cell_type": "code",
   "execution_count": 29,
   "metadata": {},
   "outputs": [
    {
     "data": {
      "text/html": [
       "0.180044771346338"
      ],
      "text/latex": [
       "0.180044771346338"
      ],
      "text/markdown": [
       "0.180044771346338"
      ],
      "text/plain": [
       "[1] 0.1800448"
      ]
     },
     "metadata": {},
     "output_type": "display_data"
    }
   ],
   "source": [
    "set.seed(1)\n",
    "samples = 10000\n",
    "# Generate lists of independent rolls\n",
    "rolls.1 = sample(1:6, samples, replace=TRUE)\n",
    "rolls.2 = sample(1:6, samples, replace=TRUE)\n",
    "# For each pair of rolls, determine if event A or event B occured\n",
    "event.A = ((rolls.1 + rolls.2) == 5)\n",
    "event.B = ((rolls.1 == 4) | (rolls.2 == 4))\n",
    "# Use the definition of conditional probability\n",
    "sum(event.A & event.B) / sum(event.B)"
   ]
  }
 ],
 "metadata": {
  "kernelspec": {
   "display_name": "R",
   "language": "R",
   "name": "ir"
  },
  "language_info": {
   "codemirror_mode": "r",
   "file_extension": ".r",
   "mimetype": "text/x-r-source",
   "name": "R",
   "pygments_lexer": "r",
   "version": "3.6.1"
  }
 },
 "nbformat": 4,
 "nbformat_minor": 4
}
