{
 "cells": [
  {
   "cell_type": "markdown",
   "metadata": {},
   "source": [
    "This assignment will be reviewed by peers based upon a given rubric. Make sure to keep your answers clear and concise while demonstrating an understanding of the material. Be sure to give all requested information in markdown cells. It is recommended to utilize Latex."
   ]
  },
  {
   "cell_type": "markdown",
   "metadata": {},
   "source": [
    "### Problem 1"
   ]
  },
  {
   "cell_type": "markdown",
   "metadata": {},
   "source": [
    "What does it mean for one event $C$ to cause another event $E$ — for example, smoking ($C$) to cause cancer ($E$)? There is a long history in philosophy, statistics, and the sciences of trying to clearly analyze the concept of a cause. One tradition says that causes raise the probability of their effects; we may write this symbolically is \n",
    "$$\n",
    "%\\begin{equation} \n",
    "P(E | C)>P(E). \n",
    "%\\end{equation} \n",
    "\\qquad \\qquad (1)\n",
    "$$ "
   ]
  },
  {
   "cell_type": "markdown",
   "metadata": {},
   "source": [
    "#### Part a)\n",
    "\n",
    "Does equation (1) imply that $P(C | E) > P(C)$? If so, prove it. If not, give a counter example."
   ]
  },
  {
   "cell_type": "markdown",
   "metadata": {},
   "source": [
    "According to Bayes' Rule:\n",
    "\n",
    "\\begin{align*}\n",
    "\\frac{P(E\\vert C)}{P(E)} & = \\frac{P(C\\vert E)}{P(C)} \\\\\n",
    "\\end{align*}\n",
    "\n",
    "Since P(E|C) > P(E), we can prove know P(C|E) > P(C), which means cancer causes smoking."
   ]
  },
  {
   "cell_type": "markdown",
   "metadata": {},
   "source": [
    "#### Part b)\n",
    "\n",
    "Another way to formulate a probabilistic theory of causation is to say that\n",
    "$$P (E | C) > P(E | C^C). \\qquad \\qquad (2)$$ Show that equation (1) implies equation (2)."
   ]
  },
  {
   "cell_type": "markdown",
   "metadata": {},
   "source": [
    "Since \n",
    "\\begin{align*}\n",
    "P(E) & = P(E|C)P(C)+P(E|C^{C})P(C^{C})\\\\\n",
    "& = P(E|C)(1-P(C^C))+P(E|C^{C})P(C^{C}) \\\\\n",
    "& = P(E|C)-P(E|C)P(C^C)+P(E|C^{C})P(C^{C}) \\\\\n",
    "\\end{align*}\n",
    "\n",
    "Hence,\n",
    "\\begin{align*}\n",
    "P(E|C) > P(E|C)-P(E|C)P(C^C)+P(E|C^{C})P(C^{C}) \\\\\n",
    "\\end{align*}\n",
    "Then,\n",
    "\\begin{align*}\n",
    "P(E|C)P(C^C) > P(E|C^{C})P(C^{C})\n",
    "\\end{align*}\n",
    "That is,\n",
    "\\begin{align*}\n",
    "P(E|C) > P(E|C^C)\n",
    "\\end{align*}"
   ]
  },
  {
   "cell_type": "markdown",
   "metadata": {},
   "source": [
    "#### Part c)\n",
    "\n",
    "Let $C$ be the drop in the level of mercury in a barometer and let $E$ be a storm. Briefly describe why this leads to a problem with using equation (1) (or equation (2)) as a theory of causation."
   ]
  },
  {
   "cell_type": "markdown",
   "metadata": {},
   "source": [
    "There is higher chance the storm will come when a drop in the barometer than not. \\\n",
    "However, this doesn't mean the barometer drop caused the storm."
   ]
  },
  {
   "cell_type": "markdown",
   "metadata": {},
   "source": [
    "#### Part d)\n",
    "\n",
    "Let $A$, $C$, and $E$ be events. If $P(E | A \\cap C) = P(E |C )$, then $C$ is said to screen $A$ off from $E$. Suppose that $P (E \\cap C) > 0.$ Show that screening off is equivalent to saying that $P(A \\cap E | C)=P(A|C)P(E | C).$ What does this latter equation say in terms of independence?"
   ]
  },
  {
   "cell_type": "markdown",
   "metadata": {},
   "source": [
    "Due to definition of conditional probability:\n",
    "\\begin{align*}\n",
    "P(E\\vert A\\cap C) & =P(E\\vert C)\\\\\n",
    "\\frac{P\\left(E\\cap A\\cap C\\right)}{P(A\\cap C)} & =P(E\\vert C)\\\\\n",
    "\\end{align*}\n",
    "Both time 1/P(C)\n",
    "\\begin{align*}\n",
    "\\frac{P\\left(E\\cap A\\cap C\\right)}{P(A\\cap C)P(C)} & =\\frac{P(E\\vert C)}{P(C)}\\\\\n",
    "\\end{align*}\n",
    "Then,\n",
    "\\begin{align*}\n",
    "\\frac{P\\left(E\\cap A\\cap C\\right)}{P(C)} & =P(E\\vert C)\\frac{P(A\\cap C)}{P(C)}\\\\\n",
    "\\end{align*}\n",
    "Because of definition of conditional probability again:\n",
    "\\begin{align*}\n",
    "P\\left(E\\cap A|C\\right) & =P(E\\vert C)P(A|C)\\\\\n",
    "\\end{align*}"
   ]
  },
  {
   "cell_type": "markdown",
   "metadata": {},
   "source": [
    "#### Part e)\n",
    "\n",
    "Now let $A$ be a the drop in the level of mercury in a barometer, $E$ be a storm, and $C$ be a drop in atmospheric pressure. Does the result from part (d) help fix the problem suggested in part (c)?"
   ]
  },
  {
   "cell_type": "markdown",
   "metadata": {},
   "source": [
    "The above equation explains that E and A are independent based on condition C. When there is an atmospheric pressure drop, barometer drop can't tell there will be a storm or the other way around."
   ]
  },
  {
   "cell_type": "markdown",
   "metadata": {},
   "source": [
    "# Problem 2\n",
    "\n",
    "Suppose you have two bags of marbles that are in a box. Bag 1 contains 7 white marbles, 6 black marbles, and 3 gold marbles. Bag 2 contains 4 white marbles, 5 black marbles, and 15 gold marbles. The probability of grabbing the Bag 1 from the box is twice the probability of grabbing the Bag 2.\n",
    "\n",
    "If you close your eyes, grab a bag from the box, and then grab a marble from that bag, what is the probability that it is gold?"
   ]
  },
  {
   "cell_type": "markdown",
   "metadata": {},
   "source": [
    "**Part a)** \n",
    "\n",
    "Solve this problem by hand. This should give us a theoretical value for pulling a gold marble."
   ]
  },
  {
   "cell_type": "markdown",
   "metadata": {},
   "source": [
    "Let $B_1$ be the event that we select Bag 1, and $B_2$ be the event that we select Bag 2. $G$ be the event that we pick a gold marble. Let's use Law of Total Probability to solve for the total probability:\n",
    "\n",
    "\\begin{align*}\n",
    "    P(G) &= P(G|B_1)P(B_1) + P(G|B_2)P(B_2) \\\\\n",
    "    &= (3/16)(2/3) + (15/24)(1/3) \\\\\n",
    "    &= 1/3\n",
    "\\end{align*}"
   ]
  },
  {
   "cell_type": "markdown",
   "metadata": {},
   "source": [
    "**Part b)**\n",
    "\n",
    "Create a simulation to estimate the probability of pulling a gold marble. Assume you put the marble back in the bag each time you pull one out. Make sure to run the simulation enough times to be confident in your final result.\n",
    "\n",
    "Note: To generate $n$ random values between [0,1], use the `runif(n)` function. This function generates $n$ random variables from the Uniform(0,1) distribution, which we will learn more about later in this course!"
   ]
  },
  {
   "cell_type": "code",
   "execution_count": 2,
   "metadata": {},
   "outputs": [
    {
     "data": {
      "text/html": [
       "0.3374"
      ],
      "text/latex": [
       "0.3374"
      ],
      "text/markdown": [
       "0.3374"
      ],
      "text/plain": [
       "[1] 0.3374"
      ]
     },
     "metadata": {},
     "output_type": "display_data"
    }
   ],
   "source": [
    "# Your Code Here\n",
    "n = 10000\n",
    "marbles = numeric(n)\n",
    "prob.gold.in.bags = c(3/16,15/24)\n",
    "\n",
    "pick.from.bag = function(test.number, bag, marbles) {\n",
    "    p = runif(1)\n",
    "    if(p < prob.gold.in.bags[bag]){\n",
    "        # Picked a gold marble\n",
    "        marbles[test.number] = 1\n",
    "    }\n",
    "    else{\n",
    "        # Picked a non-gold marble\n",
    "        marbles[test.number] = 0\n",
    "   }\n",
    "    return(marbles)\n",
    "}\n",
    "\n",
    "prob.gold.marbles = function(n,marbles) {\n",
    "    for (t in 1:n) {\n",
    "        # Get a random value between 0 and 1\n",
    "        x = runif(1)\n",
    "        bag = 2\n",
    "        # check if bag1\n",
    "        if(x < 2/3) {\n",
    "            bag = 1\n",
    "        } # otherwise bag 2\n",
    "        marbles = pick.from.bag(t, bag, marbles)\n",
    "    }\n",
    "    gold.prob = sum(marbles) / n\n",
    "    return(gold.prob)\n",
    "}\n",
    "\n",
    "prob.gold.marbles(n,marbles)\n"
   ]
  },
  {
   "cell_type": "markdown",
   "metadata": {},
   "source": [
    "# Problem 3\n",
    "\n",
    "Suppose you roll a fair die two times. Let $A$ be the event \"the sum of the throws equals 5\" and $B$ be the event \"at least one of the throws is a $4$\"."
   ]
  },
  {
   "cell_type": "markdown",
   "metadata": {},
   "source": [
    "**Part a)** \n",
    "\n",
    "By hand, solve for the probability that the sum of the throws equals 5, given that at least one of the throws is a 4. That is, solve $P(A|B)$."
   ]
  },
  {
   "cell_type": "markdown",
   "metadata": {},
   "source": [
    "|S| = 6 * 6 = 36 \\\n",
    "A = {14, 23, 32, 41} ; P(A) = 4/36 \\\n",
    "B = {41, 42 ,43, 44, 45 ,46, 14, 24, 34, 54, 64}; P(B)=11/36 \\\n",
    "A∩B = {14,41}; P(A∩B) = 2/36 \n",
    "\n",
    "\n",
    "\\begin{align*}\n",
    "P(A|B) = \\dfrac{P(A \\cap B)}{P(B)} \\\\\n",
    "= \\dfrac{2/36}{11/36} \\\\\n",
    "= \\dfrac{2}{11} \\approx 0.1818 \\\\\n",
    "\\end{align*}"
   ]
  },
  {
   "cell_type": "markdown",
   "metadata": {},
   "source": [
    "**Part b)**\n",
    "\n",
    "Write a simple simulation to confirm our result. Make sure you run your simulation enough times to be confident in your result.\n",
    "\n",
    "Hint: Think about the definition of conditional probability."
   ]
  },
  {
   "cell_type": "code",
   "execution_count": 11,
   "metadata": {},
   "outputs": [
    {
     "data": {
      "text/html": [
       "0.1804614181439"
      ],
      "text/latex": [
       "0.1804614181439"
      ],
      "text/markdown": [
       "0.1804614181439"
      ],
      "text/plain": [
       "[1] 0.1804614"
      ]
     },
     "metadata": {},
     "output_type": "display_data"
    }
   ],
   "source": [
    "# Your Code Here\n",
    "set.seed(98765)\n",
    "n = 100000\n",
    "# Generate independent rolls\n",
    "first.rolls  = sample(1:6, n, replace=TRUE)\n",
    "second.rolls = sample(1:6, n, replace=TRUE)\n",
    "# Determine event A or event B occured\n",
    "event.A = ((first.rolls + second.rolls) == 5)\n",
    "event.B = ((first.rolls == 4) | (second.rolls == 4))\n",
    "# Use the definition of conditional probability\n",
    "sum(event.A & event.B) / sum(event.B)"
   ]
  }
 ],
 "metadata": {
  "kernelspec": {
   "display_name": "R",
   "language": "R",
   "name": "ir"
  },
  "language_info": {
   "codemirror_mode": "r",
   "file_extension": ".r",
   "mimetype": "text/x-r-source",
   "name": "R",
   "pygments_lexer": "r",
   "version": "3.6.1"
  }
 },
 "nbformat": 4,
 "nbformat_minor": 4
}
